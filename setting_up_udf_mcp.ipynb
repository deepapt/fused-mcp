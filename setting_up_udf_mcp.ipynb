{
 "cells": [
  {
   "cell_type": "markdown",
   "id": "0878e3d2-d5db-4d98-9691-734d34a65c04",
   "metadata": {},
   "source": [
    "# Step by step notebook to get Claude hooked up to Fused MCP servers\n",
    "\n",
    "This notebook walks you through setting up an MCP server locally with Claude's desktop app\n",
    "\n",
    "Requirements:\n",
    "- Have Claude desktop app installed\n",
    "- Python 3.13\n",
    "- `uv` installed\n",
    "\n",
    "By the end of this notebook you'll have everything you need to run CLaude locally with _any_ Python code you pass as a Fused User Defined Function, all running locally"
   ]
  },
  {
   "cell_type": "code",
   "execution_count": 2,
   "id": "30c6f5d0-0da2-41b2-8f95-28438cba2d1c",
   "metadata": {},
   "outputs": [],
   "source": [
    "import fused\n",
    "import json\n",
    "import os\n",
    "import time"
   ]
  },
  {
   "cell_type": "code",
   "execution_count": 3,
   "id": "a874de7c-d49d-48db-90c9-35576d620305",
   "metadata": {},
   "outputs": [],
   "source": [
    "commit = \"12e5d3b\"\n",
    "common = fused.load(f\"https://github.com/fusedio/udfs/tree/{commit}/public/common\").utils"
   ]
  },
  {
   "cell_type": "code",
   "execution_count": 4,
   "id": "678261d7-1e7d-4a7c-86af-120e2c2b5a90",
   "metadata": {},
   "outputs": [],
   "source": [
    "# All defaults paths needed right now\n",
    "PATH_TO_CLAUDE_CONFIG = \"/Users/maximelenormand/Library/Application Support/Claude/claude_desktop_config.json\"\n",
    "CLAUDE_APP_PATH = \"/Applications/Claude.app\""
   ]
  },
  {
   "cell_type": "code",
   "execution_count": 4,
   "id": "b378af54-8d3a-4dc8-8550-3a6a04b25172",
   "metadata": {},
   "outputs": [],
   "source": [
    "# Since we're only doing engine='local' caching isn't even needed\n",
    "@fused.udf(cache_max_age='0s')\n",
    "def udf():\n",
    "    \"\"\"Simply return the current time in UTC\"\"\"\n",
    "    import time\n",
    "    import pandas as pd\n",
    "    from datetime import datetime\n",
    "\n",
    "    return pd.DataFrame({\"current_utc_time\": [\n",
    "        datetime.fromtimestamp(time.time()).strftime(\"%Y-%m-%d %H:%M:%S\")\n",
    "    ]})"
   ]
  },
  {
   "cell_type": "code",
   "execution_count": 5,
   "id": "6e55ffd4-820f-49d2-b2b8-6a8d7b96344b",
   "metadata": {},
   "outputs": [
    {
     "data": {
      "text/html": [
       "<div>\n",
       "<style scoped>\n",
       "    .dataframe tbody tr th:only-of-type {\n",
       "        vertical-align: middle;\n",
       "    }\n",
       "\n",
       "    .dataframe tbody tr th {\n",
       "        vertical-align: top;\n",
       "    }\n",
       "\n",
       "    .dataframe thead th {\n",
       "        text-align: right;\n",
       "    }\n",
       "</style>\n",
       "<table border=\"1\" class=\"dataframe\">\n",
       "  <thead>\n",
       "    <tr style=\"text-align: right;\">\n",
       "      <th></th>\n",
       "      <th>current_time</th>\n",
       "    </tr>\n",
       "  </thead>\n",
       "  <tbody>\n",
       "    <tr>\n",
       "      <th>0</th>\n",
       "      <td>2025-03-18 09:17:29</td>\n",
       "    </tr>\n",
       "  </tbody>\n",
       "</table>\n",
       "</div>"
      ],
      "text/plain": [
       "          current_time\n",
       "0  2025-03-18 09:17:29"
      ]
     },
     "execution_count": 5,
     "metadata": {},
     "output_type": "execute_result"
    }
   ],
   "source": [
    "# Only engine=local for no account users\n",
    "fused.run(udf, engine='local')"
   ]
  },
  {
   "cell_type": "code",
   "execution_count": 8,
   "id": "a94dcab3-c22b-4e2d-b27b-e1fd8cba4558",
   "metadata": {},
   "outputs": [
    {
     "data": {
      "text/plain": [
       "True"
      ]
     },
     "execution_count": 8,
     "metadata": {},
     "output_type": "execute_result"
    }
   ],
   "source": [
    "os.path.exists(\"./agents.json\")"
   ]
  },
  {
   "cell_type": "code",
   "execution_count": 9,
   "id": "c9ac83de-91e8-4477-8029-00cf99f09a49",
   "metadata": {},
   "outputs": [],
   "source": [
    "common.save_to_agent(\n",
    "    agent_json_path = \"./agents.json\",\n",
    "    udf = udf,\n",
    "    udf_name = \"get_current_time\",\n",
    "    mcp_metadata = {\n",
    "        \"description\": \"UDF that returns the current datetime\",\n",
    "        \"parameters\": \"\",\n",
    "    }\n",
    ")"
   ]
  },
  {
   "cell_type": "code",
   "execution_count": 17,
   "id": "dd38fcf6",
   "metadata": {},
   "outputs": [
    {
     "name": "stdout",
     "output_type": "stream",
     "text": [
      "\u001b[31mSignature:\u001b[39m\n",
      "common.save_to_agent(\n",
      "    agent_json_path: \u001b[33m'str'\u001b[39m,\n",
      "    udf: \u001b[33m'AnyBaseUdf'\u001b[39m,\n",
      "    udf_name: \u001b[33m'str'\u001b[39m,\n",
      "    mcp_metadata: \u001b[33m'dict[str, Any]'\u001b[39m,\n",
      "    overwrite: \u001b[33m'bool'\u001b[39m = \u001b[38;5;28;01mTrue\u001b[39;00m,\n",
      ")\n",
      "\u001b[31mDocstring:\u001b[39m\n",
      "Save UDF to agent of udf_ai directory\n",
      "Args:\n",
      "    agent_json_path (str): Absolute path to the agent.json file\n",
      "    udf (AnyBaseUdf): UDF to save\n",
      "    udf_name (str): Name of the UDF\n",
      "    mcp_metadata (dict[str, Any]): MCP metadata\n",
      "    overwrite (bool): If True, overwrites any existing UDF directory with current `udf`\n",
      "\u001b[31mFile:\u001b[39m      ~/Library/CloudStorage/Dropbox/Mac/Documents/repos/udf-test/utils.py\n",
      "\u001b[31mType:\u001b[39m      function"
     ]
    }
   ],
   "source": [
    "# ?common.save_to_agent"
   ]
  },
  {
   "cell_type": "code",
   "execution_count": null,
   "id": "426f70a0",
   "metadata": {},
   "outputs": [],
   "source": [
    "#TODO: Creating a new agent with UDFs created inline here for ex:\n",
    "# Get UTC time\n",
    "# UTC to local time\n"
   ]
  },
  {
   "cell_type": "code",
   "execution_count": 12,
   "id": "9a07244e-47f3-43f1-b163-345720c5f6db",
   "metadata": {},
   "outputs": [
    {
     "data": {
      "text/plain": [
       "{'agents': [{'name': 'get_current_time', 'udfs': ['get_current_time']}]}"
      ]
     },
     "execution_count": 12,
     "metadata": {},
     "output_type": "execute_result"
    }
   ],
   "source": [
    "# Checking the agents.json file\n",
    "json.load(open(\"./agents.json\"))"
   ]
  },
  {
   "cell_type": "code",
   "execution_count": 5,
   "id": "787b6142-0ad0-401e-a573-225e3cbcc0ea",
   "metadata": {},
   "outputs": [],
   "source": [
    "common.generate_local_mcp_config(\n",
    "    config_path=PATH_TO_CLAUDE_CONFIG,\n",
    "    agents_list = [\"fused_docs\"],\n",
    "    repo_path= os.getcwd(), # Local current path, assuming repo is here\n",
    "    uv_path = \"/Users/maximelenormand/.local/bin/uv\",\n",
    ")"
   ]
  },
  {
   "cell_type": "code",
   "execution_count": 6,
   "id": "a9bdb274-dc04-49d5-bb42-8ef988a7304a",
   "metadata": {},
   "outputs": [
    {
     "data": {
      "text/plain": [
       "{'mcpServers': {'fused_docs': {'command': '/Users/maximelenormand/.local/bin/uv',\n",
       "   'args': ['run',\n",
       "    '--directory',\n",
       "    '/Users/maximelenormand/Library/CloudStorage/Dropbox/Mac/Documents/repos/udf-test',\n",
       "    'run.py',\n",
       "    '--runtime=local',\n",
       "    '--udf-names=list_public_udfs,reading_fused_docs,get_current_time',\n",
       "    '--name=fused_docs']}}}"
      ]
     },
     "execution_count": 6,
     "metadata": {},
     "output_type": "execute_result"
    }
   ],
   "source": [
    "# Reading claude config to confirm\n",
    "json.load(open(PATH_TO_CLAUDE_CONFIG))"
   ]
  },
  {
   "cell_type": "code",
   "execution_count": 5,
   "id": "642fc202",
   "metadata": {},
   "outputs": [],
   "source": [
    "# Now restart Claude!"
   ]
  },
  {
   "cell_type": "code",
   "execution_count": 8,
   "id": "f85a2fbb",
   "metadata": {},
   "outputs": [
    {
     "name": "stdout",
     "output_type": "stream",
     "text": [
      "app_name='Claude.app'\n",
      "Killed Claude.app\n",
      "Restarting Claude.app\n"
     ]
    },
    {
     "data": {
      "text/plain": [
       "0"
      ]
     },
     "execution_count": 8,
     "metadata": {},
     "output_type": "execute_result"
    }
   ],
   "source": [
    "app_name = CLAUDE_APP_PATH.split(\"/\")[-1]  # Extracts \"Claude.app\"\n",
    "print(f\"{app_name=}\")\n",
    "try:\n",
    "    os.system(f\"pkill -f '{app_name}'\")  # Kill the app\n",
    "    print(f\"Killed {app_name}\")\n",
    "    time.sleep(2)  # Wait for shutdown\n",
    "except Exception as e:\n",
    "    print(f\"Claude wasn't running, so no need to kill it\")\n",
    "\n",
    "print(f\"Restarting {app_name}\")\n",
    "os.system(f\"open -a '{CLAUDE_APP_PATH}'\")  # Restart Claude"
   ]
  },
  {
   "cell_type": "code",
   "execution_count": null,
   "id": "cfa82d4e",
   "metadata": {},
   "outputs": [],
   "source": []
  },
  {
   "cell_type": "code",
   "execution_count": null,
   "id": "f6a964c1",
   "metadata": {},
   "outputs": [],
   "source": []
  },
  {
   "cell_type": "code",
   "execution_count": null,
   "id": "c73a2882",
   "metadata": {},
   "outputs": [],
   "source": []
  },
  {
   "cell_type": "code",
   "execution_count": null,
   "id": "06aa4ebd",
   "metadata": {},
   "outputs": [],
   "source": []
  }
 ],
 "metadata": {
  "kernelspec": {
   "display_name": ".venv",
   "language": "python",
   "name": "python3"
  },
  "language_info": {
   "codemirror_mode": {
    "name": "ipython",
    "version": 3
   },
   "file_extension": ".py",
   "mimetype": "text/x-python",
   "name": "python",
   "nbconvert_exporter": "python",
   "pygments_lexer": "ipython3",
   "version": "3.13.1"
  }
 },
 "nbformat": 4,
 "nbformat_minor": 5
}
